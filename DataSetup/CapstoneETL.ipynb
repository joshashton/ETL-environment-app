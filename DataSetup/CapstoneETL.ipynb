{
 "cells": [
  {
   "cell_type": "code",
   "execution_count": 40,
   "id": "5d3c977e-df2a-4662-9140-b55c5eb5c60b",
   "metadata": {},
   "outputs": [],
   "source": [
    "#imports \n",
    "import requests\n",
    "from pprint import pprint\n",
    "import pandas as pd\n",
    "import numpy as np \n",
    "import seaborn as sns \n",
    "import matplotlib.pyplot as plt \n",
    "import os\n",
    "import warnings\n",
    "# Suppress FutureWarning messages\n",
    "warnings.simplefilter(action='ignore', category=FutureWarning)\n",
    "\n",
    "#database connection\n",
    "import psycopg2 as psql \n",
    "from dotenv import load_dotenv\n",
    "import os\n",
    "import base64\n",
    "import pprint\n",
    "\n",
    "import finnhub"
   ]
  },
  {
   "cell_type": "code",
   "execution_count": 30,
   "id": "5d0295ce-d60e-4fdc-b9ce-fa447f01b0d7",
   "metadata": {},
   "outputs": [],
   "source": [
    "#get secrets from .env\n",
    "load_dotenv()\n",
    "\n",
    "api_key = os.getenv('API_KEY')"
   ]
  },
  {
   "cell_type": "markdown",
   "id": "8879b9c6-75ef-4019-acdb-c348935983fa",
   "metadata": {},
   "source": [
    "### Connect to API"
   ]
  },
  {
   "cell_type": "markdown",
   "id": "72bd8985-b0e7-4d0c-b8a9-bb559461ed08",
   "metadata": {},
   "source": [
    "### Nasa "
   ]
  },
  {
   "cell_type": "markdown",
   "id": "a8d9e340-b7d7-4da4-a929-613290e5f8ab",
   "metadata": {},
   "source": [
    "#### Different api stuff to add\n"
   ]
  },
  {
   "cell_type": "code",
   "execution_count": null,
   "id": "857c0fe2-15c3-4482-bfd4-87e044ea387e",
   "metadata": {},
   "outputs": [],
   "source": []
  },
  {
   "cell_type": "code",
   "execution_count": 65,
   "id": "fc338530-7397-426b-9614-c498f5afafa8",
   "metadata": {},
   "outputs": [
    {
     "name": "stdout",
     "output_type": "stream",
     "text": [
      "{'date': '2024-06-24', 'explanation': 'What if we could see back to the beginning of the universe?  We could see galaxies forming.  But what did galaxies look like back then?  These questions took a step forward recently with the release of the analysis of a James Webb Space Telescope (JWST) image that included the most distant object yet discovered.  Most galaxies formed at about 3 billion years after the Big Bang, but some formed earlier. Pictured in the inset box is JADES-GS-z14-0, a faint smudge of a galaxy that formed only 300 million years after the universe started.  In technical terms, this galaxy lies at the record redshift of z=14.32, and so existed when the universe was only one fiftieth of the its present age.  Practically all of the objects in the featured photograph are galaxies.', 'hdurl': 'https://apod.nasa.gov/apod/image/2406/MostDistantGalaxy_Webb_960.jpg', 'media_type': 'image', 'service_version': 'v1', 'title': 'JADES-GS-z14-0: A New Farthest Object', 'url': 'https://apod.nasa.gov/apod/image/2406/MostDistantGalaxy_Webb_960.jpg'}\n"
     ]
    }
   ],
   "source": [
    "url = 'https://api.nasa.gov/planetary/apod?api_key=DEMO_KEY'\n",
    "#headers = { 'X-Auth-Token': api_key }\n",
    "\n",
    "#esponse = requests.get(url, headers=headers)\n",
    "response = requests.get(url)\n",
    "\n",
    "\n",
    "#print(response) #response code 200: Good 400: Bad\n",
    "jsonRes = response.json()\n",
    "print(jsonRes)"
   ]
  },
  {
   "cell_type": "markdown",
   "id": "556cf9d0-533f-4a9e-bab6-a3e0fb32c907",
   "metadata": {
    "jp-MarkdownHeadingCollapsed": true
   },
   "source": [
    "### Connect to DB"
   ]
  },
  {
   "cell_type": "code",
   "execution_count": null,
   "id": "13704500-dfdd-43bb-8448-81e83065690e",
   "metadata": {},
   "outputs": [],
   "source": [
    "#get secrets from .env\n",
    "load_dotenv()\n",
    "\n",
    "username = os.getenv('sql_user')\n",
    "password = os.getenv('sql_pass')\n",
    "host = os.getenv('host')\n",
    "\n",
    "conn = psql.connect(database = 'pagila', \n",
    "                    user = username, \n",
    "                    host = host, \n",
    "                    password = password, \n",
    "                    port = 5432)\n",
    "\n",
    "cur = conn.cursor()\n",
    "SQL = \"\"\"\n",
    "CREATE TABLE IF NOT EXISTS student.mytable (\n",
    "\n",
    "  my_id serial primary key,\n",
    "  my_str varchar(50)\n",
    ")\n",
    "\"\"\"\n",
    "\n",
    "\n",
    "cur.execute(SQL)\n",
    "conn.commit()\n"
   ]
  }
 ],
 "metadata": {
  "kernelspec": {
   "display_name": "Python 3 (ipykernel)",
   "language": "python",
   "name": "python3"
  },
  "language_info": {
   "codemirror_mode": {
    "name": "ipython",
    "version": 3
   },
   "file_extension": ".py",
   "mimetype": "text/x-python",
   "name": "python",
   "nbconvert_exporter": "python",
   "pygments_lexer": "ipython3",
   "version": "3.11.7"
  }
 },
 "nbformat": 4,
 "nbformat_minor": 5
}
