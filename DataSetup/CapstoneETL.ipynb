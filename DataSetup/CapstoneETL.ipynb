{
 "cells": [
  {
   "cell_type": "code",
   "execution_count": 1,
   "id": "5d3c977e-df2a-4662-9140-b55c5eb5c60b",
   "metadata": {},
   "outputs": [
    {
     "ename": "ModuleNotFoundError",
     "evalue": "No module named 'finnhub'",
     "output_type": "error",
     "traceback": [
      "\u001b[1;31m---------------------------------------------------------------------------\u001b[0m",
      "\u001b[1;31mModuleNotFoundError\u001b[0m                       Traceback (most recent call last)",
      "Cell \u001b[1;32mIn[1], line 20\u001b[0m\n\u001b[0;32m     17\u001b[0m \u001b[38;5;28;01mimport\u001b[39;00m \u001b[38;5;21;01mbase64\u001b[39;00m\n\u001b[0;32m     18\u001b[0m \u001b[38;5;28;01mimport\u001b[39;00m \u001b[38;5;21;01mpprint\u001b[39;00m\n\u001b[1;32m---> 20\u001b[0m \u001b[38;5;28;01mimport\u001b[39;00m \u001b[38;5;21;01mfinnhub\u001b[39;00m\n",
      "\u001b[1;31mModuleNotFoundError\u001b[0m: No module named 'finnhub'"
     ]
    }
   ],
   "source": [
    "#imports \n",
    "import requests\n",
    "from pprint import pprint\n",
    "import pandas as pd\n",
    "import numpy as np \n",
    "import seaborn as sns \n",
    "import matplotlib.pyplot as plt \n",
    "import os\n",
    "import warnings\n",
    "# Suppress FutureWarning messages\n",
    "warnings.simplefilter(action='ignore', category=FutureWarning)\n",
    "\n",
    "#database connection\n",
    "import psycopg2 as psql \n",
    "from dotenv import load_dotenv\n",
    "import os\n",
    "import base64\n",
    "import pprint\n"
   ]
  },
  {
   "cell_type": "code",
   "execution_count": null,
   "id": "5d0295ce-d60e-4fdc-b9ce-fa447f01b0d7",
   "metadata": {},
   "outputs": [],
   "source": [
    "#get secrets from .env\n",
    "load_dotenv()\n",
    "\n",
    "api_key = os.getenv('API_KEY')"
   ]
  },
  {
   "cell_type": "markdown",
   "id": "8879b9c6-75ef-4019-acdb-c348935983fa",
   "metadata": {},
   "source": [
    "### Connect to API"
   ]
  },
  {
   "cell_type": "markdown",
   "id": "72bd8985-b0e7-4d0c-b8a9-bb559461ed08",
   "metadata": {},
   "source": [
    "### Nasa "
   ]
  },
  {
   "cell_type": "markdown",
   "id": "a8d9e340-b7d7-4da4-a929-613290e5f8ab",
   "metadata": {},
   "source": [
    "#### Different api stuff to add\n"
   ]
  },
  {
   "cell_type": "code",
   "execution_count": null,
   "id": "857c0fe2-15c3-4482-bfd4-87e044ea387e",
   "metadata": {},
   "outputs": [],
   "source": []
  },
  {
   "cell_type": "code",
   "execution_count": null,
   "id": "fc338530-7397-426b-9614-c498f5afafa8",
   "metadata": {},
   "outputs": [],
   "source": [
    "url = 'https://api.nasa.gov/planetary/apod?api_key=DEMO_KEY'\n",
    "#headers = { 'X-Auth-Token': api_key }\n",
    "\n",
    "#esponse = requests.get(url, headers=headers)\n",
    "response = requests.get(url)\n",
    "\n",
    "\n",
    "#print(response) #response code 200: Good 400: Bad\n",
    "jsonRes = response.json()\n",
    "print(jsonRes)"
   ]
  },
  {
   "cell_type": "markdown",
   "id": "556cf9d0-533f-4a9e-bab6-a3e0fb32c907",
   "metadata": {},
   "source": [
    "### Connect to DB"
   ]
  },
  {
   "cell_type": "code",
   "execution_count": null,
   "id": "13704500-dfdd-43bb-8448-81e83065690e",
   "metadata": {},
   "outputs": [],
   "source": [
    "#get secrets from .env\n",
    "load_dotenv()\n",
    "\n",
    "username = os.getenv('sql_user')\n",
    "password = os.getenv('sql_pass')\n",
    "host = os.getenv('host')\n",
    "\n",
    "conn = psql.connect(database = 'pagila', \n",
    "                    user = username, \n",
    "                    host = host, \n",
    "                    password = password, \n",
    "                    port = 5432)\n",
    "\n",
    "cur = conn.cursor()\n",
    "SQL = \"\"\"\n",
    "CREATE TABLE IF NOT EXISTS student.mytable (\n",
    "\n",
    "  my_id serial primary key,\n",
    "  my_str varchar(50)\n",
    ")\n",
    "\"\"\"\n",
    "\n",
    "\n",
    "cur.execute(SQL)\n",
    "conn.commit()\n"
   ]
  }
 ],
 "metadata": {
  "kernelspec": {
   "display_name": "Python 3 (ipykernel)",
   "language": "python",
   "name": "python3"
  },
  "language_info": {
   "codemirror_mode": {
    "name": "ipython",
    "version": 3
   },
   "file_extension": ".py",
   "mimetype": "text/x-python",
   "name": "python",
   "nbconvert_exporter": "python",
   "pygments_lexer": "ipython3",
   "version": "3.11.7"
  }
 },
 "nbformat": 4,
 "nbformat_minor": 5
}
